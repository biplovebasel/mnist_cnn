{
 "cells": [
  {
   "cell_type": "code",
   "execution_count": 2,
   "id": "ab80ba4c",
   "metadata": {},
   "outputs": [
    {
     "ename": "ModuleNotFoundError",
     "evalue": "No module named 'keras'",
     "output_type": "error",
     "traceback": [
      "\u001b[1;31m---------------------------------------------------------------------------\u001b[0m",
      "\u001b[1;31mModuleNotFoundError\u001b[0m                       Traceback (most recent call last)",
      "\u001b[1;32m<ipython-input-2-6cf296733558>\u001b[0m in \u001b[0;36m<module>\u001b[1;34m\u001b[0m\n\u001b[0;32m      1\u001b[0m \u001b[1;31m# example of loading the mnist dataset\u001b[0m\u001b[1;33m\u001b[0m\u001b[1;33m\u001b[0m\u001b[1;33m\u001b[0m\u001b[0m\n\u001b[1;32m----> 2\u001b[1;33m \u001b[1;32mimport\u001b[0m \u001b[0mkeras\u001b[0m\u001b[1;33m\u001b[0m\u001b[1;33m\u001b[0m\u001b[0m\n\u001b[0m\u001b[0;32m      3\u001b[0m \u001b[1;32mfrom\u001b[0m \u001b[0mkeras\u001b[0m\u001b[1;33m.\u001b[0m\u001b[0mdatasets\u001b[0m \u001b[1;32mimport\u001b[0m \u001b[0mmnist\u001b[0m\u001b[1;33m\u001b[0m\u001b[1;33m\u001b[0m\u001b[0m\n\u001b[0;32m      4\u001b[0m \u001b[1;32mfrom\u001b[0m \u001b[0mmatplotlib\u001b[0m \u001b[1;32mimport\u001b[0m \u001b[0mpyplot\u001b[0m\u001b[1;33m\u001b[0m\u001b[1;33m\u001b[0m\u001b[0m\n\u001b[0;32m      5\u001b[0m \u001b[1;31m# load dataset\u001b[0m\u001b[1;33m\u001b[0m\u001b[1;33m\u001b[0m\u001b[1;33m\u001b[0m\u001b[0m\n",
      "\u001b[1;31mModuleNotFoundError\u001b[0m: No module named 'keras'"
     ]
    }
   ],
   "source": [
    "# example of loading the mnist dataset\n",
    "import keras\n",
    "from keras.datasets import mnist\n",
    "from matplotlib import pyplot\n",
    "# load dataset\n",
    "(trainX, trainy), (testX, testy) = mnist.load_data()\n",
    "# summarize loaded dataset\n",
    "print('Train: X=%s, y=%s' % (trainX.shape, trainy.shape))\n",
    "print('Test: X=%s, y=%s' % (testX.shape, testy.shape))\n",
    "# plot first few images\n",
    "for i in range(9):\n",
    "    # define subplot\n",
    "    pyplot.subplot(330 + 1 + i)\n",
    "    # plot raw pixel data\n",
    "    pyplot.imshow(trainX[i], cmap=pyplot.get_cmap('gray'))\n",
    "# show the figure\n",
    "pyplot.show()"
   ]
  },
  {
   "cell_type": "code",
   "execution_count": 13,
   "id": "182736e4",
   "metadata": {},
   "outputs": [
    {
     "data": {
      "text/plain": [
       "<matplotlib.image.AxesImage at 0x23d35a48550>"
      ]
     },
     "execution_count": 13,
     "metadata": {},
     "output_type": "execute_result"
    },
    {
     "data": {
      "image/png": "[encoded data removed]",
      "text/plain": [
       "<Figure size 432x288 with 1 Axes>"
      ]
     },
     "metadata": {
      "needs_background": "light"
     },
     "output_type": "display_data"
    }
   ],
   "source": [
    "pyplot.imshow(trainX[0], cmap=pyplot.get_cmap('gray'))"
   ]
  },
  {
   "cell_type": "markdown",
   "id": "532291c6",
   "metadata": {},
   "source": []
  },
  {
   "cell_type": "code",
   "execution_count": 4,
   "id": "7bbaf5a7",
   "metadata": {},
   "outputs": [],
   "source": [
    "# baseline cnn model for mnist\n",
    "from numpy import mean\n",
    "from numpy import std\n",
    "from matplotlib import pyplot\n",
    "from sklearn.model_selection import KFold\n",
    "from keras.datasets import mnist\n",
    "from keras.utils import to_categorical\n",
    "from keras.models import Sequential\n",
    "from keras.layers import Conv2D\n",
    "from keras.layers import MaxPooling2D\n",
    "from keras.layers import Dense\n",
    "from keras.layers import Flatten\n",
    "from keras.optimizers import SGD\n",
    "\n",
    "# load train and test dataset\n",
    "def load_dataset():\n",
    "\t# load dataset\n",
    "\t(trainX, trainY), (testX, testY) = mnist.load_data()\n",
    "\t# reshape dataset to have a single channel\n",
    "\ttrainX = trainX.reshape((trainX.shape[0], 28, 28, 1))\n",
    "\ttestX = testX.reshape((testX.shape[0], 28, 28, 1))\n",
    "\t# one hot encode target values\n",
    "\ttrainY = to_categorical(trainY)\n",
    "\ttestY = to_categorical(testY)\n",
    "\treturn trainX, trainY, testX, testY\n",
    "\n",
    "# scale pixels\n",
    "def prep_pixels(train, test):\n",
    "\t# convert from integers to floats\n",
    "\ttrain_norm = train.astype('float32')\n",
    "\ttest_norm = test.astype('float32')\n",
    "\t# normalize to range 0-1\n",
    "\ttrain_norm = train_norm / 255.0\n",
    "\ttest_norm = test_norm / 255.0\n",
    "\t# return normalized images\n",
    "\treturn train_norm, test_norm\n",
    "\n",
    "# define cnn model\n",
    "def define_model():\n",
    "\tmodel = Sequential()\n",
    "\tmodel.add(Conv2D(32, (3, 3), activation='relu', kernel_initializer='he_uniform', input_shape=(28, 28, 1)))\n",
    "\tmodel.add(MaxPooling2D((2, 2)))\n",
    "\tmodel.add(Flatten())\n",
    "\tmodel.add(Dense(100, activation='relu', kernel_initializer='he_uniform'))\n",
    "\tmodel.add(Dense(10, activation='softmax'))\n",
    "\t# compile model\n",
    "\topt = 'Adam'#SGD(lr=0.01, momentum=0.9)\n",
    "\tmodel.compile(optimizer=opt, loss='categorical_crossentropy', metrics=['accuracy'])\n",
    "\treturn model\n",
    "\n",
    "# # evaluate a model using k-fold cross-validation\n",
    "# def evaluate_model(dataX, dataY, n_folds=5):\n",
    "# \tscores, histories = list(), list()\n",
    "# \t# prepare cross validation\n",
    "# \tkfold = KFold(n_folds, shuffle=True, random_state=1)\n",
    "# \t# enumerate splits\n",
    "# \tfor train_ix, test_ix in kfold.split(dataX):\n",
    "# \t\t# define model\n",
    "# \t\tmodel = define_model()\n",
    "# \t\t# select rows for train and test\n",
    "# \t\ttrainX, trainY, testX, testY = dataX[train_ix], dataY[train_ix], dataX[test_ix], dataY[test_ix]\n",
    "# \t\t# fit model\n",
    "# \t\thistory = model.fit(trainX, trainY, epochs=10, batch_size=32, validation_data=(testX, testY), verbose=0)\n",
    "# \t\t# evaluate model\n",
    "# \t\t_, acc = model.evaluate(testX, testY, verbose=0)\n",
    "# \t\tprint('&gt; %.3f' % (acc * 100.0))\n",
    "# \t\t# stores scores\n",
    "# \t\tscores.append(acc)\n",
    "# \t\thistories.append(history)\n",
    "# \treturn scores, histories\n",
    "\n",
    "# # plot diagnostic learning curves\n",
    "# def summarize_diagnostics(histories):\n",
    "# \tfor i in range(len(histories)):\n",
    "# \t\t# plot loss\n",
    "# \t\tpyplot.subplot(2, 1, 1)\n",
    "# \t\tpyplot.title('Cross Entropy Loss')\n",
    "# \t\tpyplot.plot(histories[i].history['loss'], color='blue', label='train')\n",
    "# \t\tpyplot.plot(histories[i].history['val_loss'], color='orange', label='test')\n",
    "# \t\t# plot accuracy\n",
    "# \t\tpyplot.subplot(2, 1, 2)\n",
    "# \t\tpyplot.title('Classification Accuracy')\n",
    "# \t\tpyplot.plot(histories[i].history['accuracy'], color='blue', label='train')\n",
    "# \t\tpyplot.plot(histories[i].history['val_accuracy'], color='orange', label='test')\n",
    "# \tpyplot.show()\n",
    "\n",
    "# # summarize model performance\n",
    "# def summarize_performance(scores):\n",
    "# \t# print summary\n",
    "# \tprint('Accuracy: mean=%.3f std=%.3f, n=%d' % (mean(scores)*100, std(scores)*100, len(scores)))\n",
    "# \t# box and whisker plots of results\n",
    "# \tpyplot.boxplot(scores)\n",
    "# \tpyplot.show()\n",
    "\n",
    "# # run the test harness for evaluating a model\n",
    "# def run_test_harness():\n",
    "# \t# load dataset\n",
    "# \ttrainX, trainY, testX, testY = load_dataset()\n",
    "# \t# prepare pixel data\n",
    "# \ttrainX, testX = prep_pixels(trainX, testX)\n",
    "# \t# evaluate model\n",
    "# \tscores, histories = evaluate_model(trainX, trainY)\n",
    "# \t# learning curves\n",
    "# \tsummarize_diagnostics(histories)\n",
    "# \t# summarize estimated performance\n",
    "# \tsummarize_performance(scores)\n",
    "\n",
    "# # entry point, run the test harness\n",
    "# run_test_harness()"
   ]
  },
  {
   "cell_type": "code",
   "execution_count": 8,
   "id": "fa6cdbab",
   "metadata": {},
   "outputs": [
    {
     "name": "stdout",
     "output_type": "stream",
     "text": [
      "Train on 60000 samples, validate on 10000 samples\n",
      "Epoch 1/10\n",
      " - 13s - loss: 0.1463 - acc: 0.9542 - val_loss: 0.0665 - val_acc: 0.9788\n",
      "Epoch 2/10\n",
      " - 13s - loss: 0.0492 - acc: 0.9845 - val_loss: 0.0488 - val_acc: 0.9835\n",
      "Epoch 3/10\n",
      " - 13s - loss: 0.0305 - acc: 0.9905 - val_loss: 0.0535 - val_acc: 0.9839\n",
      "Epoch 4/10\n",
      " - 12s - loss: 0.0195 - acc: 0.9935 - val_loss: 0.0419 - val_acc: 0.9868\n",
      "Epoch 5/10\n",
      " - 10s - loss: 0.0142 - acc: 0.9950 - val_loss: 0.0547 - val_acc: 0.9847\n",
      "Epoch 6/10\n",
      " - 12s - loss: 0.0090 - acc: 0.9971 - val_loss: 0.0506 - val_acc: 0.9861\n",
      "Epoch 7/10\n",
      " - 11s - loss: 0.0075 - acc: 0.9977 - val_loss: 0.0525 - val_acc: 0.9852\n",
      "Epoch 8/10\n",
      " - 11s - loss: 0.0053 - acc: 0.9984 - val_loss: 0.0557 - val_acc: 0.9868\n",
      "Epoch 9/10\n",
      " - 11s - loss: 0.0055 - acc: 0.9981 - val_loss: 0.0658 - val_acc: 0.9853\n",
      "Epoch 10/10\n",
      " - 12s - loss: 0.0046 - acc: 0.9984 - val_loss: 0.0613 - val_acc: 0.9872\n"
     ]
    }
   ],
   "source": [
    "trainX, trainY, testX, testY = load_dataset()\n",
    "trainX, testX = prep_pixels(trainX, testX)\n",
    "model = define_model()\n",
    "\n",
    "history = model.fit(trainX, trainY, epochs=10, batch_size=32, validation_data=(testX, testY), verbose=2)"
   ]
  },
  {
   "cell_type": "code",
   "execution_count": 25,
   "id": "941cd6fa",
   "metadata": {},
   "outputs": [
    {
     "name": "stdout",
     "output_type": "stream",
     "text": [
      "_________________________________________________________________\n",
      "Layer (type)                 Output Shape              Param #   \n",
      "=================================================================\n",
      "conv2d_7 (Conv2D)            (None, 26, 26, 32)        320       \n",
      "_________________________________________________________________\n",
      "max_pooling2d_7 (MaxPooling2 (None, 13, 13, 32)        0         \n",
      "_________________________________________________________________\n",
      "flatten_7 (Flatten)          (None, 5408)              0         \n",
      "_________________________________________________________________\n",
      "dense_13 (Dense)             (None, 100)               540900    \n",
      "_________________________________________________________________\n",
      "dense_14 (Dense)             (None, 10)                1010      \n",
      "=================================================================\n",
      "Total params: 542,230\n",
      "Trainable params: 542,230\n",
      "Non-trainable params: 0\n",
      "_________________________________________________________________\n"
     ]
    }
   ],
   "source": [
    "model.summary()"
   ]
  },
  {
   "cell_type": "code",
   "execution_count": 45,
   "id": "8b6f3991",
   "metadata": {},
   "outputs": [
    {
     "data": {
      "text/plain": [
       "0.9872"
      ]
     },
     "execution_count": 45,
     "metadata": {},
     "output_type": "execute_result"
    }
   ],
   "source": [
    "_, acc = model.evaluate(testX, testY, verbose=0)\n",
    "acc"
   ]
  },
  {
   "cell_type": "code",
   "execution_count": 51,
   "id": "b1ed9887",
   "metadata": {},
   "outputs": [
    {
     "data": {
      "text/plain": [
       "(10000, 28, 28, 1)"
      ]
     },
     "execution_count": 51,
     "metadata": {},
     "output_type": "execute_result"
    }
   ],
   "source": [
    "testX.shape"
   ]
  },
  {
   "cell_type": "code",
   "execution_count": 77,
   "id": "85444c30",
   "metadata": {},
   "outputs": [],
   "source": [
    "# Test \n",
    "test_image = testX[10]"
   ]
  },
  {
   "cell_type": "code",
   "execution_count": 78,
   "id": "25a45e9a",
   "metadata": {},
   "outputs": [
    {
     "data": {
      "text/plain": [
       "<matplotlib.image.AxesImage at 0x23d4639ad30>"
      ]
     },
     "execution_count": 78,
     "metadata": {},
     "output_type": "execute_result"
    },
    {
     "data": {
      "image/png": "[encoded data removed]",
      "text/plain": [
       "<Figure size 432x288 with 1 Axes>"
      ]
     },
     "metadata": {
      "needs_background": "light"
     },
     "output_type": "display_data"
    }
   ],
   "source": [
    "pyplot.imshow(test_image, cmap=pyplot.get_cmap('gray'))"
   ]
  },
  {
   "cell_type": "code",
   "execution_count": 79,
   "id": "06550d06",
   "metadata": {},
   "outputs": [],
   "source": [
    "import numpy as np\n",
    "test_image=np.reshape(test_image,(1,28,28,1))"
   ]
  },
  {
   "cell_type": "code",
   "execution_count": 80,
   "id": "9d0edb9e",
   "metadata": {},
   "outputs": [
    {
     "name": "stdout",
     "output_type": "stream",
     "text": [
      "[0]\n"
     ]
    }
   ],
   "source": [
    "y_pred = model.predict(test_image)\n",
    "predicted_digit = np.argmax(y_pred, axis=1)\n",
    "print(predicted_digit)"
   ]
  },
  {
   "cell_type": "code",
   "execution_count": null,
   "id": "74973f2d",
   "metadata": {},
   "outputs": [],
   "source": []
  }
 ],
 "metadata": {
  "kernelspec": {
   "display_name": "Python 3",
   "language": "python",
   "name": "python3"
  },
  "language_info": {
   "codemirror_mode": {
    "name": "ipython",
    "version": 3
   },
   "file_extension": ".py",
   "mimetype": "text/x-python",
   "name": "python",
   "nbconvert_exporter": "python",
   "pygments_lexer": "ipython3",
   "version": "3.6.13"
  }
 },
 "nbformat": 4,
 "nbformat_minor": 5
}
